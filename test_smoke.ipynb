{
 "cells": [
  {
   "cell_type": "code",
   "execution_count": 1,
   "metadata": {},
   "outputs": [],
   "source": [
    "import numpy as np\n",
    "from smoke import smoke\n",
    "\n",
    "%load_ext autoreload\n",
    "%autoreload 2\n"
   ]
  },
  {
   "cell_type": "markdown",
   "metadata": {},
   "source": [
    "# Synthetic Data"
   ]
  },
  {
   "cell_type": "code",
   "execution_count": 2,
   "metadata": {},
   "outputs": [],
   "source": [
    "g = 9.81 # m/s^2\n",
    "air_viscosity = 1.81e-5 # kg/(m*sec)\n",
    "particle_radius = 10**-6 # meters\n",
    "particle_mass = 10**-15 # kg (calculated for water droplet)\n",
    "\n",
    "drag = 6*np.pi*air_viscosity*particle_radius/particle_mass\n",
    "\n",
    "params = {\n",
    "    'particles_per_sec': 10,\n",
    "    'ini_vel': [0, 0, 1],\n",
    "    'vel_std': [0.1, 0.1, 0.1],\n",
    "    'bouyancy': 50,\n",
    "    'buoyancy_const': 10,\n",
    "    # 'buoyancy_const': 19,\n",
    "    'wind_vel': [1, 2],\n",
    "    # 'wind_vel': [0, 0, 0],\n",
    "    'drag': 0.01,\n",
    "    # 'drag': 20,\n",
    "    'aperture': 1\n",
    "}\n",
    "\n",
    "#? TEST that smoke function works\n",
    "particles_t1 = smoke(0.1,0, np.empty((0,3,3)), params=params)\n",
    "\n"
   ]
  },
  {
   "cell_type": "markdown",
   "metadata": {},
   "source": [
    "# Animation"
   ]
  },
  {
   "cell_type": "markdown",
   "metadata": {},
   "source": [
    "Initialize particle array and calculate positions at each timestep.\n"
   ]
  },
  {
   "cell_type": "code",
   "execution_count": 43,
   "metadata": {},
   "outputs": [],
   "source": [
    "\n",
    "#? Test: particle positions at consequtive times\n",
    "# NOTE: the more spatious the time intervals, the more \"empty\" zones we get. this happens because the random sampling doesn't stay uniform across samples for some reason.\n",
    "#! buoyancies are not the same either the acceleration!!!\n",
    "#todo: buoyancies not correct!\n",
    "ts = np.linspace(0.1, 100, 30)\n",
    "particles_t1 = np.empty((0,3,3))\n",
    "particle_list = []\n",
    "for i in range(len(ts) - 1):\n",
    "    particles_t1 = smoke(ts[i+1],ts[i], particles_t1, params=params)\n",
    "    particle_list.append(particles_t1)\n",
    "\n"
   ]
  },
  {
   "cell_type": "code",
   "execution_count": 44,
   "metadata": {},
   "outputs": [
    {
     "name": "stderr",
     "output_type": "stream",
     "text": [
      "/Users/danielzilberg/anaconda3/envs/biomotion/lib/python3.12/site-packages/matplotlib/animation.py:892: UserWarning: Animation was deleted without rendering anything. This is most likely not intended. To prevent deletion, assign the Animation to a variable, e.g. `anim`, that exists until you output the Animation using `plt.show()` or `anim.save()`.\n",
      "  warnings.warn(\n"
     ]
    }
   ],
   "source": [
    "import matplotlib.pyplot as plt\n",
    "import matplotlib.animation as animation\n",
    "from mpl_toolkits.mplot3d import Axes3D\n",
    "import numpy as np\n",
    "# Initialize scatter plot with color mapping\n",
    "\n",
    "\n",
    "%matplotlib qt5\n",
    "\n",
    "fig = plt.figure()\n",
    "ax = fig.add_subplot(111, projection='3d')\n",
    "\n",
    "# Initialize scatter plot\n",
    "scatter = ax.scatter(particle_list[0][:, 0, 0], particle_list[0][:, 0, 1], particle_list[0][:, 0, 2])\n",
    "\n",
    "# Find min and max values across all particle positions\n",
    "min_val_x = np.min([np.min(particle_list[i][:, 0, 0]) for i in range(len(particle_list))])\n",
    "max_val_x = np.max([np.max(particle_list[i][:, 0, 0]) for i in range(len(particle_list))])\n",
    "\n",
    "min_val_y = np.min([np.min(particle_list[i][:, 0, 1]) for i in range(len(particle_list))])\n",
    "max_val_y = np.max([np.max(particle_list[i][:, 0, 1]) for i in range(len(particle_list))])\n",
    "\n",
    "min_val_z = np.min([np.min(particle_list[i][:, 0, 2]) for i in range(len(particle_list))])\n",
    "max_val_z = np.max([np.max(particle_list[i][:, 0, 2]) for i in range(len(particle_list))])\n",
    "# Set limits\n",
    "ax.set_xlim(min_val_x, max_val_x)\n",
    "ax.set_ylim(min_val_y, max_val_y)\n",
    "ax.set_zlim(min_val_z, max_val_z)\n",
    "\n",
    "# Update function\n",
    "def update(i):\n",
    "    scatter._offsets3d = (particle_list[i][:, 0, 0], particle_list[i][:, 0, 1], particle_list[i][:, 0, 2])\n",
    "    ax.set_title(f\"Time: {ts[i]}\")  # Add time to the plot title\n",
    "\n",
    "# Create animation\n",
    "ani = animation.FuncAnimation(fig, update, frames=len(particle_list), interval=200)\n",
    "\n",
    "plt.show()\n",
    "\n",
    "# Set limits\n",
    "ax.set_xlim(min_val_x, max_val_x)\n",
    "ax.set_ylim(min_val_y, max_val_y)\n",
    "ax.set_zlim(min_val_z, max_val_z)\n",
    "\n",
    "# Update function\n",
    "def update(i):\n",
    "    scatter._offsets3d = (particle_list[i][:, 0, 0], particle_list[i][:, 0, 1], particle_list[i][:, 0, 2])\n",
    "\n",
    "# Create animation\n",
    "ani = animation.FuncAnimation(fig, update, frames=len(particle_list), interval=200)\n",
    "\n",
    "plt.show()"
   ]
  }
 ],
 "metadata": {
  "kernelspec": {
   "display_name": "biomotion",
   "language": "python",
   "name": "python3"
  },
  "language_info": {
   "codemirror_mode": {
    "name": "ipython",
    "version": 3
   },
   "file_extension": ".py",
   "mimetype": "text/x-python",
   "name": "python",
   "nbconvert_exporter": "python",
   "pygments_lexer": "ipython3",
   "version": "3.12.1"
  }
 },
 "nbformat": 4,
 "nbformat_minor": 2
}
