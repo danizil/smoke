{
 "cells": [
  {
   "cell_type": "code",
   "execution_count": 2,
   "metadata": {},
   "outputs": [],
   "source": [
    "import numpy as np\n",
    "from smoke import smoke\n",
    "\n",
    "%load_ext autoreload\n",
    "%autoreload 2\n"
   ]
  },
  {
   "cell_type": "code",
   "execution_count": 65,
   "metadata": {},
   "outputs": [],
   "source": [
    "g = 9.81 # m/s^2\n",
    "air_viscosity = 1.81e-5 # kg/(m*sec)\n",
    "particle_radius = 10**-6 # meters\n",
    "particle_mass = 10**-15 # kg (calculated for water droplet)\n",
    "\n",
    "drag = 6*np.pi*air_viscosity*particle_radius/particle_mass\n",
    "\n",
    "params = {\n",
    "    'particles_per_sec': 100,\n",
    "    'ini_vel': [0, 0, 1],\n",
    "    'vel_std': [0.1, 0.1, 0.1],\n",
    "    'bouyancy': 50,\n",
    "    'buoyancy_const': 10,\n",
    "    'wind_vel': [0.1, 0.1],\n",
    "    'drag': 0.01,\n",
    "    'aperture': 1\n",
    "}\n",
    "\n",
    "#? TEST that smoke function works\n",
    "particles_t1 = smoke(1,0, np.empty((0,3,3)), params=params)\n",
    "\n"
   ]
  },
  {
   "cell_type": "markdown",
   "metadata": {},
   "source": [
    "# Animation"
   ]
  },
  {
   "cell_type": "code",
   "execution_count": 69,
   "metadata": {},
   "outputs": [],
   "source": [
    "\n",
    "#? Test: particle positions at consequtive times\n",
    "ts = np.linspace(0.1, 10, 150)\n",
    "particles_t1 = np.empty((0,3,3))\n",
    "particle_list = []\n",
    "for t in ts:\n",
    "    particles_t1 = smoke(t,0, particles_t1, params=params)\n",
    "    particle_list.append(particles_t1)"
   ]
  },
  {
   "cell_type": "code",
   "execution_count": 70,
   "metadata": {},
   "outputs": [],
   "source": [
    "import matplotlib.pyplot as plt\n",
    "import matplotlib.animation as animation\n",
    "from mpl_toolkits.mplot3d import Axes3D\n",
    "import numpy as np\n",
    "\n",
    "fig = plt.figure()\n",
    "ax = fig.add_subplot(111, projection='3d')\n",
    "\n",
    "# Initialize scatter plot\n",
    "scatter = ax.scatter(particle_list[0][:, 0, 0], particle_list[0][:, 1, 0], particle_list[0][:, 2, 0])\n",
    "\n",
    "# Find min and max values across all particle positions\n",
    "min_val_x = np.min([np.min(particle_list[i][:, 0, 0]) for i in range(len(particle_list))])\n",
    "max_val_x = np.max([np.max(particle_list[i][:, 0, 0]) for i in range(len(particle_list))])\n",
    "\n",
    "min_val_y = np.min([np.min(particle_list[i][:, 1, 0]) for i in range(len(particle_list))])\n",
    "max_val_y = np.max([np.max(particle_list[i][:, 1, 0]) for i in range(len(particle_list))])\n",
    "\n",
    "min_val_z = np.min([np.min(particle_list[i][:, 2, 0]) for i in range(len(particle_list))])\n",
    "max_val_z = np.max([np.max(particle_list[i][:, 2, 0]) for i in range(len(particle_list))])\n",
    "\n",
    "# Set limits\n",
    "ax.set_xlim(min_val_x, max_val_x)\n",
    "ax.set_ylim(min_val_y, max_val_y)\n",
    "ax.set_zlim(min_val_z, max_val_z)\n",
    "\n",
    "# Update function\n",
    "def update(i):\n",
    "    scatter._offsets3d = (particle_list[i][:, 0, 0], particle_list[i][:, 1, 0], particle_list[i][:, 2, 0])\n",
    "\n",
    "# Create animation\n",
    "ani = animation.FuncAnimation(fig, update, frames=len(particle_list), interval=200)\n",
    "\n",
    "plt.show()"
   ]
  },
  {
   "cell_type": "code",
   "execution_count": 53,
   "metadata": {},
   "outputs": [],
   "source": [
    "import matplotlib.pyplot as plt\n",
    "import matplotlib.animation as animation\n",
    "from mpl_toolkits.mplot3d import Axes3D\n",
    "\n",
    "\n",
    "fig = plt.figure()\n",
    "ax = fig.add_subplot(111, projection='3d')\n",
    "\n",
    "# Initialize scatter plot\n",
    "scatter = ax.scatter(particle_list[0][:, 0, 0], particle_list[0][:, 1, 0], particle_list[0][:, 2, 0])\n",
    "\n",
    "# Update function\n",
    "def update(i):\n",
    "    scatter._offsets3d = (particle_list[i][:, 0, 0], particle_list[i][:, 1, 0], particle_list[i][:, 2, 0])\n",
    "\n",
    "# Create animation\n",
    "ani = animation.FuncAnimation(fig, update, frames=len(particle_list), interval=200)\n",
    "\n",
    "plt.show()"
   ]
  }
 ],
 "metadata": {
  "kernelspec": {
   "display_name": "biomotion",
   "language": "python",
   "name": "python3"
  },
  "language_info": {
   "codemirror_mode": {
    "name": "ipython",
    "version": 3
   },
   "file_extension": ".py",
   "mimetype": "text/x-python",
   "name": "python",
   "nbconvert_exporter": "python",
   "pygments_lexer": "ipython3",
   "version": "3.12.1"
  }
 },
 "nbformat": 4,
 "nbformat_minor": 2
}
